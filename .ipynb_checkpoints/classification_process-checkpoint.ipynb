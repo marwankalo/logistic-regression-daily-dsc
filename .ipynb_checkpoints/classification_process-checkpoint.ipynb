{
 "cells": [
  {
   "cell_type": "code",
   "execution_count": 1,
   "metadata": {
    "ExecuteTime": {
     "end_time": "2020-04-03T10:43:47.230752Z",
     "start_time": "2020-04-03T10:43:46.307701Z"
    }
   },
   "outputs": [],
   "source": [
    "import numpy as np\n",
    "import pandas as pd"
   ]
  },
  {
   "cell_type": "markdown",
   "metadata": {},
   "source": [
    "# Problem Understanding"
   ]
  },
  {
   "cell_type": "markdown",
   "metadata": {},
   "source": [
    "The National Health Service has determined that decisive action to treat diabetes is necessary. However, diagnosing it takes hours of doctors that are in high demand.<br>\n",
    "\n",
    "Help them to predict who is diabetic and who is not based on data that non-medical stuff can obtain so that you reduce the number of people who:\n",
    "- get treated without needing it\n",
    "- don't get treated when they actually needed it"
   ]
  },
  {
   "cell_type": "markdown",
   "metadata": {},
   "source": [
    "# Data Understanding"
   ]
  },
  {
   "cell_type": "markdown",
   "metadata": {},
   "source": [
    "https://data.world/data-society/pima-indians-diabetes-database"
   ]
  },
  {
   "cell_type": "code",
   "execution_count": 2,
   "metadata": {
    "ExecuteTime": {
     "end_time": "2020-04-03T10:43:47.259388Z",
     "start_time": "2020-04-03T10:43:47.233127Z"
    }
   },
   "outputs": [
    {
     "name": "stdout",
     "output_type": "stream",
     "text": [
      "(768, 9)\n"
     ]
    },
    {
     "data": {
      "text/html": [
       "<div>\n",
       "<style scoped>\n",
       "    .dataframe tbody tr th:only-of-type {\n",
       "        vertical-align: middle;\n",
       "    }\n",
       "\n",
       "    .dataframe tbody tr th {\n",
       "        vertical-align: top;\n",
       "    }\n",
       "\n",
       "    .dataframe thead th {\n",
       "        text-align: right;\n",
       "    }\n",
       "</style>\n",
       "<table border=\"1\" class=\"dataframe\">\n",
       "  <thead>\n",
       "    <tr style=\"text-align: right;\">\n",
       "      <th></th>\n",
       "      <th>Pregnancies</th>\n",
       "      <th>Glucose</th>\n",
       "      <th>BloodPressure</th>\n",
       "      <th>SkinThickness</th>\n",
       "      <th>Insulin</th>\n",
       "      <th>BMI</th>\n",
       "      <th>DiabetesPedigreeFunction</th>\n",
       "      <th>Age</th>\n",
       "      <th>Outcome</th>\n",
       "    </tr>\n",
       "  </thead>\n",
       "  <tbody>\n",
       "    <tr>\n",
       "      <td>0</td>\n",
       "      <td>6</td>\n",
       "      <td>148</td>\n",
       "      <td>72</td>\n",
       "      <td>35</td>\n",
       "      <td>0</td>\n",
       "      <td>33.6</td>\n",
       "      <td>0.627</td>\n",
       "      <td>50</td>\n",
       "      <td>1</td>\n",
       "    </tr>\n",
       "    <tr>\n",
       "      <td>1</td>\n",
       "      <td>1</td>\n",
       "      <td>85</td>\n",
       "      <td>66</td>\n",
       "      <td>29</td>\n",
       "      <td>0</td>\n",
       "      <td>26.6</td>\n",
       "      <td>0.351</td>\n",
       "      <td>31</td>\n",
       "      <td>0</td>\n",
       "    </tr>\n",
       "    <tr>\n",
       "      <td>2</td>\n",
       "      <td>8</td>\n",
       "      <td>183</td>\n",
       "      <td>64</td>\n",
       "      <td>0</td>\n",
       "      <td>0</td>\n",
       "      <td>23.3</td>\n",
       "      <td>0.672</td>\n",
       "      <td>32</td>\n",
       "      <td>1</td>\n",
       "    </tr>\n",
       "    <tr>\n",
       "      <td>3</td>\n",
       "      <td>1</td>\n",
       "      <td>89</td>\n",
       "      <td>66</td>\n",
       "      <td>23</td>\n",
       "      <td>94</td>\n",
       "      <td>28.1</td>\n",
       "      <td>0.167</td>\n",
       "      <td>21</td>\n",
       "      <td>0</td>\n",
       "    </tr>\n",
       "    <tr>\n",
       "      <td>4</td>\n",
       "      <td>0</td>\n",
       "      <td>137</td>\n",
       "      <td>40</td>\n",
       "      <td>35</td>\n",
       "      <td>168</td>\n",
       "      <td>43.1</td>\n",
       "      <td>2.288</td>\n",
       "      <td>33</td>\n",
       "      <td>1</td>\n",
       "    </tr>\n",
       "  </tbody>\n",
       "</table>\n",
       "</div>"
      ],
      "text/plain": [
       "   Pregnancies  Glucose  BloodPressure  SkinThickness  Insulin   BMI  \\\n",
       "0            6      148             72             35        0  33.6   \n",
       "1            1       85             66             29        0  26.6   \n",
       "2            8      183             64              0        0  23.3   \n",
       "3            1       89             66             23       94  28.1   \n",
       "4            0      137             40             35      168  43.1   \n",
       "\n",
       "   DiabetesPedigreeFunction  Age  Outcome  \n",
       "0                     0.627   50        1  \n",
       "1                     0.351   31        0  \n",
       "2                     0.672   32        1  \n",
       "3                     0.167   21        0  \n",
       "4                     2.288   33        1  "
      ]
     },
     "execution_count": 2,
     "metadata": {},
     "output_type": "execute_result"
    }
   ],
   "source": [
    "df = pd.read_csv('pima-indians-diabetes.csv')\n",
    "print(df.shape)\n",
    "df.head()"
   ]
  },
  {
   "cell_type": "code",
   "execution_count": 3,
   "metadata": {
    "ExecuteTime": {
     "end_time": "2020-04-03T10:43:47.272392Z",
     "start_time": "2020-04-03T10:43:47.261575Z"
    }
   },
   "outputs": [
    {
     "data": {
      "text/html": [
       "<div>\n",
       "<style scoped>\n",
       "    .dataframe tbody tr th:only-of-type {\n",
       "        vertical-align: middle;\n",
       "    }\n",
       "\n",
       "    .dataframe tbody tr th {\n",
       "        vertical-align: top;\n",
       "    }\n",
       "\n",
       "    .dataframe thead th {\n",
       "        text-align: right;\n",
       "    }\n",
       "</style>\n",
       "<table border=\"1\" class=\"dataframe\">\n",
       "  <thead>\n",
       "    <tr style=\"text-align: right;\">\n",
       "      <th></th>\n",
       "      <th>Pregnancies</th>\n",
       "      <th>Glucose</th>\n",
       "      <th>BloodPressure</th>\n",
       "      <th>SkinThickness</th>\n",
       "      <th>Insulin</th>\n",
       "      <th>BMI</th>\n",
       "      <th>DiabetesPedigreeFunction</th>\n",
       "      <th>Age</th>\n",
       "    </tr>\n",
       "  </thead>\n",
       "  <tbody>\n",
       "    <tr>\n",
       "      <td>0</td>\n",
       "      <td>6</td>\n",
       "      <td>148</td>\n",
       "      <td>72</td>\n",
       "      <td>35</td>\n",
       "      <td>0</td>\n",
       "      <td>33.6</td>\n",
       "      <td>0.627</td>\n",
       "      <td>50</td>\n",
       "    </tr>\n",
       "    <tr>\n",
       "      <td>1</td>\n",
       "      <td>1</td>\n",
       "      <td>85</td>\n",
       "      <td>66</td>\n",
       "      <td>29</td>\n",
       "      <td>0</td>\n",
       "      <td>26.6</td>\n",
       "      <td>0.351</td>\n",
       "      <td>31</td>\n",
       "    </tr>\n",
       "    <tr>\n",
       "      <td>2</td>\n",
       "      <td>8</td>\n",
       "      <td>183</td>\n",
       "      <td>64</td>\n",
       "      <td>0</td>\n",
       "      <td>0</td>\n",
       "      <td>23.3</td>\n",
       "      <td>0.672</td>\n",
       "      <td>32</td>\n",
       "    </tr>\n",
       "    <tr>\n",
       "      <td>3</td>\n",
       "      <td>1</td>\n",
       "      <td>89</td>\n",
       "      <td>66</td>\n",
       "      <td>23</td>\n",
       "      <td>94</td>\n",
       "      <td>28.1</td>\n",
       "      <td>0.167</td>\n",
       "      <td>21</td>\n",
       "    </tr>\n",
       "    <tr>\n",
       "      <td>4</td>\n",
       "      <td>0</td>\n",
       "      <td>137</td>\n",
       "      <td>40</td>\n",
       "      <td>35</td>\n",
       "      <td>168</td>\n",
       "      <td>43.1</td>\n",
       "      <td>2.288</td>\n",
       "      <td>33</td>\n",
       "    </tr>\n",
       "  </tbody>\n",
       "</table>\n",
       "</div>"
      ],
      "text/plain": [
       "   Pregnancies  Glucose  BloodPressure  SkinThickness  Insulin   BMI  \\\n",
       "0            6      148             72             35        0  33.6   \n",
       "1            1       85             66             29        0  26.6   \n",
       "2            8      183             64              0        0  23.3   \n",
       "3            1       89             66             23       94  28.1   \n",
       "4            0      137             40             35      168  43.1   \n",
       "\n",
       "   DiabetesPedigreeFunction  Age  \n",
       "0                     0.627   50  \n",
       "1                     0.351   31  \n",
       "2                     0.672   32  \n",
       "3                     0.167   21  \n",
       "4                     2.288   33  "
      ]
     },
     "execution_count": 3,
     "metadata": {},
     "output_type": "execute_result"
    }
   ],
   "source": [
    "X = df.drop('Outcome',axis=1)\n",
    "y = df['Outcome']\n",
    "X.head()"
   ]
  },
  {
   "cell_type": "markdown",
   "metadata": {},
   "source": [
    "# Data preparation"
   ]
  },
  {
   "cell_type": "markdown",
   "metadata": {},
   "source": [
    "### Split your X data in train and test datasets\n",
    "Here is the documentation: https://scikit-learn.org/stable/modules/generated/sklearn.model_selection.train_test_split.html"
   ]
  },
  {
   "cell_type": "code",
   "execution_count": 4,
   "metadata": {
    "ExecuteTime": {
     "end_time": "2020-04-03T10:43:47.940652Z",
     "start_time": "2020-04-03T10:43:47.276319Z"
    }
   },
   "outputs": [],
   "source": [
    "from sklearn.model_selection import train_test_split\n",
    "\n",
    "X_train, X_test, y_train, y_test = train_test_split(X, y, test_size=0.2, random_state=44) #40"
   ]
  },
  {
   "cell_type": "markdown",
   "metadata": {},
   "source": [
    "### Split your train data in train and validation datasets"
   ]
  },
  {
   "cell_type": "code",
   "execution_count": 5,
   "metadata": {
    "ExecuteTime": {
     "end_time": "2020-04-03T10:43:47.949189Z",
     "start_time": "2020-04-03T10:43:47.942926Z"
    }
   },
   "outputs": [],
   "source": [
    "from sklearn.model_selection import train_test_split\n",
    "\n",
    "X_train_v, X_val, y_train_v, y_val = train_test_split(X_train,y_train,test_size=0.2, random_state=52) #50"
   ]
  },
  {
   "cell_type": "code",
   "execution_count": 6,
   "metadata": {
    "ExecuteTime": {
     "end_time": "2020-04-03T10:43:47.954720Z",
     "start_time": "2020-04-03T10:43:47.951664Z"
    }
   },
   "outputs": [],
   "source": [
    "# Interestingly, when setting the initial train-test split random_state to 42 and the train-validation split \n",
    "# random_state to 55, the accuracy and ROC_AUC for the regularised and unregularised models were the same !!!!"
   ]
  },
  {
   "cell_type": "markdown",
   "metadata": {},
   "source": [
    "### Scale the 3 datasets using StandardScaler"
   ]
  },
  {
   "cell_type": "code",
   "execution_count": 7,
   "metadata": {
    "ExecuteTime": {
     "end_time": "2020-04-03T10:43:47.966730Z",
     "start_time": "2020-04-03T10:43:47.957094Z"
    }
   },
   "outputs": [],
   "source": [
    "from sklearn.preprocessing import StandardScaler \n",
    "\n",
    "ss = StandardScaler()\n",
    "\n",
    "ss.fit(X_train_v)\n",
    "\n",
    "X_train_v = ss.transform(X_train_v)\n",
    "X_val = ss.transform(X_val)\n",
    "\n",
    "X_test = ss.transform(X_test)"
   ]
  },
  {
   "cell_type": "markdown",
   "metadata": {},
   "source": [
    "# Modelling and Model Evaluation"
   ]
  },
  {
   "cell_type": "markdown",
   "metadata": {},
   "source": [
    "### Train a logistic regression model with NO regularisation"
   ]
  },
  {
   "cell_type": "code",
   "execution_count": 8,
   "metadata": {
    "ExecuteTime": {
     "end_time": "2020-04-03T10:43:48.021449Z",
     "start_time": "2020-04-03T10:43:47.970671Z"
    }
   },
   "outputs": [
    {
     "data": {
      "text/plain": [
       "LogisticRegression(C=1.0, class_weight=None, dual=False, fit_intercept=True,\n",
       "                   intercept_scaling=1, l1_ratio=None, max_iter=100,\n",
       "                   multi_class='warn', n_jobs=None, penalty='none',\n",
       "                   random_state=None, solver='lbfgs', tol=0.0001, verbose=0,\n",
       "                   warm_start=False)"
      ]
     },
     "execution_count": 8,
     "metadata": {},
     "output_type": "execute_result"
    }
   ],
   "source": [
    "from sklearn.linear_model import LogisticRegression\n",
    "\n",
    "model = LogisticRegression(penalty='none', solver='lbfgs')\n",
    "model.fit(X_train_v,y_train_v)"
   ]
  },
  {
   "cell_type": "markdown",
   "metadata": {},
   "source": [
    "### Measure the accuracy and ROC_AUC of your model\n",
    "Here is the documentation: https://scikit-learn.org/stable/modules/model_evaluation.html#classification-metrics"
   ]
  },
  {
   "cell_type": "code",
   "execution_count": 9,
   "metadata": {
    "ExecuteTime": {
     "end_time": "2020-04-03T10:43:48.031246Z",
     "start_time": "2020-04-03T10:43:48.024507Z"
    }
   },
   "outputs": [
    {
     "name": "stdout",
     "output_type": "stream",
     "text": [
      "Accuracy of model = 0.7804878048780488\n",
      "ROC_AUC of model = 0.724025974025974\n"
     ]
    }
   ],
   "source": [
    "from sklearn.metrics import accuracy_score, roc_auc_score\n",
    "\n",
    "y_val_pred = model.predict(X_val)\n",
    "\n",
    "print(\"Accuracy of model =\", accuracy_score(y_val, y_val_pred))\n",
    "\n",
    "print(\"ROC_AUC of model =\", roc_auc_score(y_val, y_val_pred))"
   ]
  },
  {
   "cell_type": "markdown",
   "metadata": {},
   "source": [
    "### Train a logistic regression model with L1 regularisation"
   ]
  },
  {
   "cell_type": "code",
   "execution_count": 10,
   "metadata": {
    "ExecuteTime": {
     "end_time": "2020-04-03T10:43:48.039434Z",
     "start_time": "2020-04-03T10:43:48.033061Z"
    }
   },
   "outputs": [
    {
     "data": {
      "text/plain": [
       "LogisticRegression(C=1.0, class_weight=None, dual=False, fit_intercept=True,\n",
       "                   intercept_scaling=1, l1_ratio=None, max_iter=100,\n",
       "                   multi_class='warn', n_jobs=None, penalty='l1',\n",
       "                   random_state=None, solver='liblinear', tol=0.0001, verbose=0,\n",
       "                   warm_start=False)"
      ]
     },
     "execution_count": 10,
     "metadata": {},
     "output_type": "execute_result"
    }
   ],
   "source": [
    "model_L1 = LogisticRegression(penalty='l1', solver='liblinear')\n",
    "model_L1.fit(X_train_v,y_train_v)"
   ]
  },
  {
   "cell_type": "markdown",
   "metadata": {},
   "source": [
    "### Measure the accuracy and ROC_AUC of your model\n"
   ]
  },
  {
   "cell_type": "code",
   "execution_count": 11,
   "metadata": {
    "ExecuteTime": {
     "end_time": "2020-04-03T10:43:48.052645Z",
     "start_time": "2020-04-03T10:43:48.041246Z"
    }
   },
   "outputs": [
    {
     "name": "stdout",
     "output_type": "stream",
     "text": [
      "Accuracy of model = 0.7886178861788617\n",
      "ROC_AUC of model = 0.7348955392433654\n"
     ]
    }
   ],
   "source": [
    "y_val_pred_L1 = model_L1.predict(X_val)\n",
    "\n",
    "print(\"Accuracy of model =\", accuracy_score(y_val, y_val_pred_L1))\n",
    "\n",
    "print(\"ROC_AUC of model =\", roc_auc_score(y_val, y_val_pred_L1))"
   ]
  },
  {
   "cell_type": "markdown",
   "metadata": {},
   "source": [
    "## Which model did you choose? Explain your reasoning"
   ]
  },
  {
   "cell_type": "code",
   "execution_count": 12,
   "metadata": {
    "ExecuteTime": {
     "end_time": "2020-04-03T10:43:48.057940Z",
     "start_time": "2020-04-03T10:43:48.055253Z"
    }
   },
   "outputs": [],
   "source": [
    "# I chose the model with L1 regularisation as it had a slightly higher accuracy, implying better predictive\n",
    "# ability. Similarly the L1 regularised model had a higher area under the ROC curve implying that the model\n",
    "# is better at making correct predictions."
   ]
  },
  {
   "cell_type": "markdown",
   "metadata": {},
   "source": [
    "# Interprete your winning model"
   ]
  },
  {
   "cell_type": "markdown",
   "metadata": {},
   "source": [
    "### Extract your intercept and coefficients"
   ]
  },
  {
   "cell_type": "code",
   "execution_count": 13,
   "metadata": {
    "ExecuteTime": {
     "end_time": "2020-04-03T10:43:48.065545Z",
     "start_time": "2020-04-03T10:43:48.060149Z"
    }
   },
   "outputs": [
    {
     "name": "stdout",
     "output_type": "stream",
     "text": [
      "Intercept = [-0.98757082]\n",
      "Coefficients = [[ 0.19618213  1.04369033 -0.25316664  0.05289606 -0.10168692  0.6412087\n",
      "   0.13188045  0.26608813]]\n",
      "['Pregnancies', 'Glucose', 'BloodPressure', 'SkinThickness', 'Insulin', 'BMI', 'DiabetesPedigreeFunction', 'Age']\n"
     ]
    }
   ],
   "source": [
    "# Winning model is model_L1\n",
    "\n",
    "intercept = model_L1.intercept_\n",
    "print(\"Intercept =\", intercept)\n",
    "\n",
    "coefs = model_L1.coef_\n",
    "cols = list(X.columns)\n",
    "print(\"Coefficients =\", coefs)\n",
    "print(cols)"
   ]
  },
  {
   "cell_type": "markdown",
   "metadata": {},
   "source": [
    "### Show the difference in probabilities when changing the value of one of your predictors"
   ]
  },
  {
   "cell_type": "markdown",
   "metadata": {
    "ExecuteTime": {
     "end_time": "2020-04-02T14:24:31.847570Z",
     "start_time": "2020-04-02T14:24:31.842741Z"
    }
   },
   "source": [
    "$$\\log \\left({p\\over 1-p}\\right) = \\beta_0 + \\beta_1x$$"
   ]
  },
  {
   "cell_type": "code",
   "execution_count": 14,
   "metadata": {
    "ExecuteTime": {
     "end_time": "2020-04-03T10:43:48.073487Z",
     "start_time": "2020-04-03T10:43:48.068334Z"
    }
   },
   "outputs": [
    {
     "name": "stdout",
     "output_type": "stream",
     "text": [
      "Probability = [0.28462577]\n"
     ]
    }
   ],
   "source": [
    "# From the equationa above, I can calculate the probability at given values of one of our predictors\n",
    "# I will be changing the value of the DiabetesPedigreeFunction predictor\n",
    "\n",
    "dpf_1 = 0.5\n",
    "dpf_2 = 2.5\n",
    "\n",
    "dpf_coef = coefs[0][-2]\n",
    "\n",
    "# Convert log_odds to odds\n",
    "log_odds = intercept + (dpf_coef*dpf_1)\n",
    "odds = np.exp(log_odds)\n",
    "odds\n",
    "\n",
    "# convert odds to probability\n",
    "prob = odds/(1 + odds)\n",
    "print(\"Probability =\", prob)"
   ]
  },
  {
   "cell_type": "code",
   "execution_count": 15,
   "metadata": {
    "ExecuteTime": {
     "end_time": "2020-04-03T10:43:48.081952Z",
     "start_time": "2020-04-03T10:43:48.075734Z"
    }
   },
   "outputs": [
    {
     "name": "stdout",
     "output_type": "stream",
     "text": [
      "Probability = [0.2621093]\n"
     ]
    }
   ],
   "source": [
    "# Convert log_odds to odds\n",
    "log_odds_2 = intercept + (dpf_coef*dpf_2)\n",
    "odds_2 = np.exp(log_odds_2)\n",
    "odds_2\n",
    "\n",
    "# convert odds to probability\n",
    "prob_2 = odds/(1 + odds_2)\n",
    "print(\"Probability =\", prob_2)\n",
    "\n",
    "# Given the negative coef, this is expected! As the DiabetesPedigreeFunction value increases, the probability \n",
    "# decreases."
   ]
  },
  {
   "cell_type": "markdown",
   "metadata": {},
   "source": [
    "### Extract the probability of a positive for your validation samples"
   ]
  },
  {
   "cell_type": "code",
   "execution_count": 16,
   "metadata": {
    "ExecuteTime": {
     "end_time": "2020-04-03T10:43:48.090719Z",
     "start_time": "2020-04-03T10:43:48.084537Z"
    }
   },
   "outputs": [
    {
     "data": {
      "text/plain": [
       "array([0.21485237, 0.0694842 , 0.06962498, 0.76424829, 0.07389101,\n",
       "       0.56932718, 0.09244292, 0.28360128, 0.70251768, 0.29338188,\n",
       "       0.11677165, 0.26402013, 0.23972761, 0.31016538, 0.25730974,\n",
       "       0.76133485, 0.12742457, 0.10724525, 0.11530979, 0.26311744,\n",
       "       0.06431803, 0.37934149, 0.33188864, 0.34388675, 0.49566332,\n",
       "       0.11428919, 0.26301632, 0.62254845, 0.1761018 , 0.2665028 ,\n",
       "       0.12048568, 0.11763706, 0.06548056, 0.11372815, 0.20965311,\n",
       "       0.35677098, 0.34631792, 0.14654102, 0.29100544, 0.24823821,\n",
       "       0.60187233, 0.15100817, 0.16511692, 0.06686479, 0.27501772,\n",
       "       0.84416068, 0.65404637, 0.20510698, 0.26410944, 0.89320999,\n",
       "       0.10469554, 0.25812604, 0.39624187, 0.09534352, 0.51737027,\n",
       "       0.1467067 , 0.65703986, 0.3416394 , 0.16069035, 0.12612644,\n",
       "       0.05466794, 0.73809913, 0.2250236 , 0.65132565, 0.2035187 ,\n",
       "       0.21932128, 0.23473068, 0.07309004, 0.65977917, 0.08908417,\n",
       "       0.08516661, 0.19354654, 0.19554072, 0.82303503, 0.45217625,\n",
       "       0.61474774, 0.08736063, 0.20108575, 0.19961098, 0.09035114,\n",
       "       0.50532752, 0.36909887, 0.18303331, 0.06352661, 0.5042208 ,\n",
       "       0.1136865 , 0.43019581, 0.11542343, 0.14736467, 0.77520796,\n",
       "       0.74197419, 0.73013662, 0.70851588, 0.03616457, 0.23074656,\n",
       "       0.8386786 , 0.14207203, 0.28312747, 0.30569643, 0.62554262,\n",
       "       0.08321157, 0.18354806, 0.64034184, 0.32188696, 0.43341601,\n",
       "       0.16138758, 0.17632632, 0.29080242, 0.11988281, 0.17227552,\n",
       "       0.05274039, 0.37801956, 0.14527689, 0.39646642, 0.82367617,\n",
       "       0.16295578, 0.07170986, 0.02599889, 0.29968322, 0.79226723,\n",
       "       0.7270168 , 0.08624661, 0.12146002])"
      ]
     },
     "execution_count": 16,
     "metadata": {},
     "output_type": "execute_result"
    }
   ],
   "source": [
    "probs_val = model_L1.predict_proba(X_val)\n",
    "probs_val[:,1]"
   ]
  },
  {
   "cell_type": "markdown",
   "metadata": {},
   "source": [
    "### Extract FPR, TPR and thresholds"
   ]
  },
  {
   "cell_type": "code",
   "execution_count": 17,
   "metadata": {
    "ExecuteTime": {
     "end_time": "2020-04-03T10:43:48.096535Z",
     "start_time": "2020-04-03T10:43:48.092565Z"
    }
   },
   "outputs": [],
   "source": [
    "from sklearn.metrics import  roc_curve\n",
    "\n",
    "fpr_val, tpr_val, thresholds_val = roc_curve(y_val, probs_val[:,1])"
   ]
  },
  {
   "cell_type": "markdown",
   "metadata": {},
   "source": [
    "### Plot the ROC curves for your training, validation (and, if you are done, test) datasets"
   ]
  },
  {
   "cell_type": "code",
   "execution_count": 18,
   "metadata": {
    "ExecuteTime": {
     "end_time": "2020-04-03T10:43:48.496015Z",
     "start_time": "2020-04-03T10:43:48.098376Z"
    }
   },
   "outputs": [
    {
     "data": {
      "image/png": "[encoded data removed]",
      "text/plain": [
       "<Figure size 1152x720 with 1 Axes>"
      ]
     },
     "metadata": {
      "needs_background": "light"
     },
     "output_type": "display_data"
    }
   ],
   "source": [
    "#Training and test set positive probabilities\n",
    "probs_train = model_L1.predict_proba(X_train_v)\n",
    "fpr_train, tpr_train, thresholds_train = roc_curve(y_train_v, probs_train[:,1])\n",
    "\n",
    "probs_test = model_L1.predict_proba(X_test)\n",
    "fpr_test, tpr_test, thresholds_test = roc_curve(y_test, probs_test[:,1])\n",
    "\n",
    "import matplotlib.pyplot as plt\n",
    "\n",
    "plt.figure(figsize=(16,10))\n",
    "plt.plot([0, 1], [0, 1], 'k--')\n",
    "plt.plot(fpr_train, tpr_train, label='Training')\n",
    "plt.plot(fpr_val, tpr_val, label='Validation')\n",
    "plt.plot(fpr_test, tpr_test, label='Test')\n",
    "\n",
    "plt.xlabel('False positive rate')\n",
    "plt.ylabel('True positive rate')\n",
    "plt.title('ROC curve')\n",
    "plt.legend(loc='best')\n",
    "\n",
    "plt.show()"
   ]
  },
  {
   "cell_type": "markdown",
   "metadata": {},
   "source": [
    "# Threshold selection"
   ]
  },
  {
   "cell_type": "markdown",
   "metadata": {},
   "source": [
    "### Estimate the prevalence in the environment where your model will be used"
   ]
  },
  {
   "cell_type": "code",
   "execution_count": 19,
   "metadata": {
    "ExecuteTime": {
     "end_time": "2020-04-03T10:43:48.500642Z",
     "start_time": "2020-04-03T10:43:48.498052Z"
    }
   },
   "outputs": [],
   "source": [
    "# My model will be used in the UK where the prevalence of diabetes is 6%\n",
    "prevalence = 0.06"
   ]
  },
  {
   "cell_type": "markdown",
   "metadata": {},
   "source": [
    "### Estimate the costs for each unit of your FPs, TNs, FNs and TPs\n",
    "**Hint:** You don't have data for this. You will have to do some research and deep thinking<br>\n",
    "**Hint 2:** think of a £ value or something else that non-technical stakeholders could relate to<br>\n",
    "**Hint 3:** They are going to be approximations and that's fine. Just create a good logic.<br>"
   ]
  },
  {
   "cell_type": "code",
   "execution_count": 45,
   "metadata": {
    "ExecuteTime": {
     "end_time": "2020-04-03T11:13:44.682359Z",
     "start_time": "2020-04-03T11:13:44.677865Z"
    }
   },
   "outputs": [],
   "source": [
    "# I assume that this study is being made on behalf of NHS practice's which take on the cost of treatment and\n",
    "# medication - none relayed to patient.\n",
    "\n",
    "# With a false positive, an individual will be assumed to have the condition when in fact they do not.\n",
    "# This will result in the provision of up to a year's worth of medication before tested again. The cost associated\n",
    "# with this is between £300 and £370 per patient (https://www.diabetes.co.uk/cost-of-diabetes.html), I take an\n",
    "# average of £335 and compute this as the cost associated with a false positive prediction.\n",
    "\n",
    "FPc = 335\n",
    "\n",
    "# There is no cost associated with an individual being predicted negative, when they are in fact diabetes negative\n",
    "\n",
    "TNc = 0 \n",
    "\n",
    "# This is the costliest error to make - predicting an individual as negative, when in fact they do have diabetes\n",
    "# (positive). With such an error, initially there will be no costs associated however there can be serious costs\n",
    "# incurred further down the line, I will try to estimate a value for this. The following are common long-term \n",
    "# consequences of diabetes with their annual direct medical costs and likelihoods in brackets: Cardiovascular \n",
    "# disease (£15,000, 48%), Kidney disease(£35,000, 33) and Eye disease (£995, 88%).  \n",
    "\n",
    "FNc = (15000*0.48)+(35000*0.33)+(995*0.88)\n",
    "\n",
    "# \"Annual inpatient care, to treat short and long term complications of diabetes, is estimated at between £1,800 \n",
    "# and £2,500 per patient. This compares with annual outpatient costs, which includes the cost of medications and \n",
    "# monitoring supplies, estimated at between £300 and £370 per patient.\" Assuming this, the cost per annum on \n",
    "# average I will take to be 2100+335/2 ≈ £1220.\n",
    "\n",
    "TPc =1220\n",
    "\n",
    "\n",
    "# References:\n",
    "# https://www.healio.com/ophthalmology/cornea-external-disease/news/online/%7B1624cd50-1a54-42b4-a333-68954b1a0a25%7D/the-economic-burden-of-dry-eye-disease\n",
    "# https://www.hindawi.com/journals/an/2014/680737/\n",
    "# http://heartinsight.heart.org/Fall-2018/Hidden-Dangers-of-Undiagnosed-Diabetes/\n",
    "# https://www.diabetes.org.uk/resources-s3/2017-11/diabetes_in_the_uk_2010.pdf"
   ]
  },
  {
   "cell_type": "markdown",
   "metadata": {},
   "source": [
    "### Calculate your m parameter"
   ]
  },
  {
   "cell_type": "code",
   "execution_count": 29,
   "metadata": {
    "ExecuteTime": {
     "end_time": "2020-04-03T10:45:16.234513Z",
     "start_time": "2020-04-03T10:45:16.229076Z"
    }
   },
   "outputs": [
    {
     "data": {
      "text/plain": [
       "0.2851487228524652"
      ]
     },
     "execution_count": 29,
     "metadata": {},
     "output_type": "execute_result"
    }
   ],
   "source": [
    "m = (1-prevalence)/prevalence * (FPc-TNc)/(FNc-TPc)\n",
    "m"
   ]
  },
  {
   "cell_type": "markdown",
   "metadata": {},
   "source": [
    "### Calculate fm for each threshold"
   ]
  },
  {
   "cell_type": "code",
   "execution_count": 42,
   "metadata": {
    "ExecuteTime": {
     "end_time": "2020-04-03T10:56:00.304413Z",
     "start_time": "2020-04-03T10:56:00.297925Z"
    }
   },
   "outputs": [
    {
     "data": {
      "text/plain": [
       "[(0.0, 1.9170974424616536),\n",
       " (0.015625, 0.9170974424616535),\n",
       " (0.03125, 0.8998483676958303),\n",
       " (0.02808168085719483, 0.8924149914139747),\n",
       " (0.5124566808571949, 0.5516298814092008),\n",
       " (0.5092883617143896, 0.5298966353756983),\n",
       " (0.5561633617143896, 0.5019042110059044),\n",
       " (0.5498267234287794, 0.4785716653481928),\n",
       " (0.5967017234287794, 0.4671036914664074),\n",
       " (0.5935334042859741, 0.4467310735949132),\n",
       " (0.6091584042859741, 0.4240285980023677),\n",
       " (0.5901484894291431, 0.36652159370076953),\n",
       " (0.6370234894291431, 0.3434241003298847),\n",
       " (0.633855170286338, 0.34242233085452217),\n",
       " (0.665105170286338, 0.32486105509392055),\n",
       " (0.6556002128579225, 0.31467172118080877),\n",
       " (0.7337252128579225, 0.3066113327825887),\n",
       " (0.7305568937151173, 0.3017563327183217),\n",
       " (0.7461818937151173, 0.30079345674423286),\n",
       " (0.7366769362867018, 0.291103985178765),\n",
       " (0.7523019362867018, 0.2863500310643568),\n",
       " (0.7459652980010915, 0.2608926477014918),\n",
       " (0.7615902980010915, 0.2404530269090817),\n",
       " (0.7584219788582863, 0.23900248445837113),\n",
       " (0.7896719788582863, 0.23380443636484274),\n",
       " (0.7738303831442604, 0.21715886239599366),\n",
       " (0.7894553831442604, 0.21704389189111395),\n",
       " (0.7799504257158449, 0.2073805010481537),\n",
       " (0.7955754257158449, 0.19077021244887876),\n",
       " (0.7924071065730398, 0.19058247869176514),\n",
       " (0.8080321065730398, 0.18520873661342072),\n",
       " (0.7921905108590139, 0.17306958228283),\n",
       " (0.8390655108590139, 0.16237563434365954),\n",
       " (0.823223915144988, 0.1543750602665631),\n",
       " (0.838848915144988, 0.15321537180533756),\n",
       " (0.8230073194309623, 0.13182707671166727),\n",
       " (0.8386323194309623, 0.1282046305903451),\n",
       " (0.8101174471457158, 0.10806331391310363),\n",
       " (0.8257424471457158, 0.10797569677950021),\n",
       " (0.7148512771475348, 0.010085619075391404)]"
      ]
     },
     "execution_count": 42,
     "metadata": {},
     "output_type": "execute_result"
    }
   ],
   "source": [
    "fm_list = tpr_test-(m*fpr_test)\n",
    "list(zip(fm_list.tolist(), thresholds_test.tolist()))"
   ]
  },
  {
   "cell_type": "markdown",
   "metadata": {},
   "source": [
    "### Select the threshold with the highest fm score"
   ]
  },
  {
   "cell_type": "code",
   "execution_count": 23,
   "metadata": {
    "ExecuteTime": {
     "end_time": "2020-04-03T10:43:48.525748Z",
     "start_time": "2020-04-03T10:43:48.523998Z"
    }
   },
   "outputs": [],
   "source": [
    "# Highest fm score = 0.8390655108590139, corresponds to threshold = 0.16237563434365954"
   ]
  },
  {
   "cell_type": "markdown",
   "metadata": {},
   "source": [
    "### Plot the confusion matrix for your selected threshold"
   ]
  },
  {
   "cell_type": "code",
   "execution_count": 63,
   "metadata": {
    "ExecuteTime": {
     "end_time": "2020-04-03T12:56:28.162204Z",
     "start_time": "2020-04-03T12:56:28.150302Z"
    },
    "scrolled": true
   },
   "outputs": [
    {
     "data": {
      "text/plain": [
       "TP    60\n",
       "TN    54\n",
       "FP    36\n",
       "FN     4\n",
       "dtype: int64"
      ]
     },
     "execution_count": 63,
     "metadata": {},
     "output_type": "execute_result"
    }
   ],
   "source": [
    "from sklearn.metrics import confusion_matrix\n",
    "\n",
    "probs_list = probs_test[:,1].tolist()\n",
    "\n",
    "my_results =[]\n",
    "for x in probs_list:\n",
    "    if x>0.16237563434365954:\n",
    "        my_results.append(1)\n",
    "    else:\n",
    "        my_results.append(0)\n",
    "my_results\n",
    "\n",
    "confusion = []\n",
    "for i, real in enumerate(y_test.tolist()):\n",
    "    if my_results[i] == real:\n",
    "        if my_results[i] == 0:\n",
    "            confusion.append(\"TN\")\n",
    "        else:\n",
    "            confusion.append(\"TP\")\n",
    "    else:\n",
    "        if my_results[i] == 0:\n",
    "            confusion.append(\"FN\")\n",
    "        else:\n",
    "            confusion.append(\"FP\")\n",
    "        \n",
    "pd.Series(confusion).value_counts()"
   ]
  },
  {
   "cell_type": "code",
   "execution_count": 64,
   "metadata": {
    "ExecuteTime": {
     "end_time": "2020-04-03T12:57:42.705304Z",
     "start_time": "2020-04-03T12:57:42.697761Z"
    }
   },
   "outputs": [
    {
     "data": {
      "text/plain": [
       "array([[54, 36],\n",
       "       [ 4, 60]])"
      ]
     },
     "execution_count": 64,
     "metadata": {},
     "output_type": "execute_result"
    }
   ],
   "source": [
    "confusion_matrix(y_test.tolist(), my_results)"
   ]
  },
  {
   "cell_type": "markdown",
   "metadata": {},
   "source": [
    "Thus in binary classification, the count of true negatives is\n",
    ":math:`C_{0,0}`, false negatives is :math:`C_{1,0}`, true positives is\n",
    ":math:`C_{1,1}` and false positives is :math:`C_{0,1}`."
   ]
  },
  {
   "cell_type": "markdown",
   "metadata": {},
   "source": [
    "### Calculate your alpha / power / precision / accuracy\n",
    "(Don't use any library for this exercise, in real life you can though)"
   ]
  },
  {
   "cell_type": "code",
   "execution_count": 70,
   "metadata": {
    "ExecuteTime": {
     "end_time": "2020-04-05T14:18:38.577512Z",
     "start_time": "2020-04-05T14:18:38.569589Z"
    }
   },
   "outputs": [
    {
     "name": "stdout",
     "output_type": "stream",
     "text": [
      "alpha =  0.4\n",
      "power =  0.9375\n",
      "precision =  0.625\n",
      "accuracy =  0.7402597402597403\n"
     ]
    }
   ],
   "source": [
    "alpha = 36/(54+36)\n",
    "print(\"alpha = \", alpha)\n",
    "\n",
    "power = 60/(4+60)\n",
    "print(\"power = \", power)\n",
    "\n",
    "precision = 60/(60+36)\n",
    "print(\"precision = \", precision)\n",
    "\n",
    "accuracy = (60+54)/(60+54+36+4)\n",
    "print(\"accuracy = \", accuracy)\n"
   ]
  },
  {
   "cell_type": "markdown",
   "metadata": {},
   "source": [
    "### Explain in non-technical terms your alpha / power / precision / accuracy"
   ]
  },
  {
   "cell_type": "code",
   "execution_count": 71,
   "metadata": {
    "ExecuteTime": {
     "end_time": "2020-04-05T14:18:43.826303Z",
     "start_time": "2020-04-05T14:18:43.822612Z"
    }
   },
   "outputs": [],
   "source": [
    "# Alpha is the probability of our model stating that someone needs treatments when actually they do not. \n",
    "# Statistical power is a measure of our model's ability to identify people who do need treatment for diabetes.\n",
    "\n",
    "# Precision is how many times our model correctly predicted someone needed tratement (positive predicted value)\n",
    "# Accuracy denotes how many times our model correctly identified people that needed treatment and people that didn't.\n"
   ]
  },
  {
   "cell_type": "markdown",
   "metadata": {},
   "source": [
    "# Actionable problem solving recommendations"
   ]
  },
  {
   "cell_type": "markdown",
   "metadata": {},
   "source": [
    "### Write a brief paragraph telling your stakeholders something they can **DO** to be better off based on your model"
   ]
  },
  {
   "cell_type": "code",
   "execution_count": 27,
   "metadata": {
    "ExecuteTime": {
     "end_time": "2020-04-03T10:43:48.551197Z",
     "start_time": "2020-04-03T10:43:48.547091Z"
    }
   },
   "outputs": [],
   "source": [
    "# Conduct more tests if the first result is unclear in any way!\n",
    "# Type II errors are costly in the long-run and must be avoided!"
   ]
  }
 ],
 "metadata": {
  "kernelspec": {
   "display_name": "Python [conda env:learn-env] *",
   "language": "python",
   "name": "conda-env-learn-env-py"
  },
  "language_info": {
   "codemirror_mode": {
    "name": "ipython",
    "version": 3
   },
   "file_extension": ".py",
   "mimetype": "text/x-python",
   "name": "python",
   "nbconvert_exporter": "python",
   "pygments_lexer": "ipython3",
   "version": "3.6.9"
  },
  "toc": {
   "base_numbering": 1,
   "nav_menu": {},
   "number_sections": true,
   "sideBar": true,
   "skip_h1_title": false,
   "title_cell": "Table of Contents",
   "title_sidebar": "Contents",
   "toc_cell": false,
   "toc_position": {},
   "toc_section_display": true,
   "toc_window_display": false
  }
 },
 "nbformat": 4,
 "nbformat_minor": 2
}
